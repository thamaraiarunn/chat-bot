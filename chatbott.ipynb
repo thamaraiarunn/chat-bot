{
  "nbformat": 4,
  "nbformat_minor": 0,
  "metadata": {
    "colab": {
      "provenance": []
    },
    "kernelspec": {
      "name": "python3",
      "display_name": "Python 3"
    },
    "language_info": {
      "name": "python"
    }
  },
  "cells": [
    {
      "cell_type": "code",
      "execution_count": 1,
      "metadata": {
        "colab": {
          "base_uri": "https://localhost:8080/"
        },
        "id": "X2H_JODd769P",
        "outputId": "d7316032-8bcf-40ae-8be6-973301c30fbe"
      },
      "outputs": [
        {
          "output_type": "stream",
          "name": "stdout",
          "text": [
            "Chatbot: Hello! How can I assist you today?\n",
            "You: hai\n",
            "Chatbot: Could you rephrase that?\n",
            "You: hello\n",
            "Chatbot: I'm not sure how to respond to that.\n",
            "You: how are you\n",
            "Chatbot: I'm good, thank you!\n",
            "You: bye\n",
            "Chatbot: Goodbye!\n"
          ]
        }
      ],
      "source": [
        "import random\n",
        "\n",
        "# Define some responses for the chatbot\n",
        "responses = {\n",
        "    \"hi\": [\"Hello!\", \"Hi there!\", \"Hey, how can I help you?\"],\n",
        "    \"how are you\": [\"I'm good, thank you!\", \"I'm doing well, how about you?\", \"I'm fine, how can I assist you?\"],\n",
        "    \"bye\": [\"Goodbye!\", \"See you later!\", \"Take care!\"],\n",
        "    \"default\": [\"Sorry, I didn't understand that.\", \"Could you rephrase that?\", \"I'm not sure how to respond to that.\"]\n",
        "}\n",
        "\n",
        "# Function to handle user input and generate a response\n",
        "def chatbot_response(user_input):\n",
        "    user_input = user_input.lower()  # Convert input to lowercase for easier matching\n",
        "\n",
        "    # Check for known responses\n",
        "    for key in responses:\n",
        "        if key in user_input:\n",
        "            return random.choice(responses[key])\n",
        "\n",
        "    # If no known response, use the default response\n",
        "    return random.choice(responses[\"default\"])\n",
        "\n",
        "# Main loop to interact with the chatbot\n",
        "def chat():\n",
        "    print(\"Chatbot: Hello! How can I assist you today?\")\n",
        "    while True:\n",
        "        user_input = input(\"You: \")\n",
        "\n",
        "        if \"bye\" in user_input.lower():\n",
        "            print(\"Chatbot: Goodbye!\")\n",
        "            break\n",
        "\n",
        "        response = chatbot_response(user_input)\n",
        "        print(\"Chatbot:\", response)\n",
        "\n",
        "# Run the chatbot\n",
        "if __name__ == \"__main__\":\n",
        "    chat()\n"
      ]
    }
  ]
}